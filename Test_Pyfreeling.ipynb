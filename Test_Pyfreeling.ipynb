{
 "cells": [
  {
   "cell_type": "code",
   "execution_count": 1,
   "metadata": {
    "collapsed": true
   },
   "outputs": [],
   "source": [
    "from lxml import etree\n",
    "from pyfreeling import Analyzer"
   ]
  },
  {
   "cell_type": "code",
   "execution_count": 18,
   "metadata": {
    "collapsed": true
   },
   "outputs": [],
   "source": [
    "config_file = '/usr/share/freeling/config/es.cfg'\n",
    "text = 'casa casado cazado'\n",
    "analyzer = Analyzer(config=config_file, lang='es')\n",
    "output = analyzer.run(text.encode(\"utf-8\"), 'flush')"
   ]
  },
  {
   "cell_type": "code",
   "execution_count": 11,
   "metadata": {},
   "outputs": [
    {
     "data": {
      "text/plain": [
       "bytes"
      ]
     },
     "execution_count": 11,
     "metadata": {},
     "output_type": "execute_result"
    }
   ],
   "source": [
    "type(etree.tostring(output[0][0]))"
   ]
  },
  {
   "cell_type": "code",
   "execution_count": 12,
   "metadata": {},
   "outputs": [
    {
     "name": "stdout",
     "output_type": "stream",
     "text": [
      "b'<token id=\"t1.2\" form=\"gatitos\" lemma=\"gato\" tag=\"NCMP00V\" ctag=\"NC\" pos=\"noun\" type=\"common\" gen=\"masculine\" num=\"plural\" degree=\"evaluative\">\\\\n  </token>\\\\n  '\n"
     ]
    }
   ],
   "source": [
    "print(etree.tostring(output[0][1]))"
   ]
  },
  {
   "cell_type": "code",
   "execution_count": 19,
   "metadata": {},
   "outputs": [
    {
     "name": "stdout",
     "output_type": "stream",
     "text": [
      "casa\n",
      "casar\n",
      "cazar\n"
     ]
    }
   ],
   "source": [
    "for i in output.iter():\n",
    "    if 'lemma' in i.attrib:\n",
    "        print((i.attrib['lemma']))"
   ]
  },
  {
   "cell_type": "code",
   "execution_count": 50,
   "metadata": {},
   "outputs": [
    {
     "name": "stdout",
     "output_type": "stream",
     "text": [
      "español\n"
     ]
    }
   ],
   "source": [
    "print('español')"
   ]
  }
 ],
 "metadata": {
  "kernelspec": {
   "display_name": "Python 3",
   "language": "python",
   "name": "python3"
  },
  "language_info": {
   "codemirror_mode": {
    "name": "ipython",
    "version": 3
   },
   "file_extension": ".py",
   "mimetype": "text/x-python",
   "name": "python",
   "nbconvert_exporter": "python",
   "pygments_lexer": "ipython3",
   "version": "3.6.1"
  }
 },
 "nbformat": 4,
 "nbformat_minor": 2
}
